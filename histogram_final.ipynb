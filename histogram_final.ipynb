{
 "cells": [
  {
   "cell_type": "code",
   "execution_count": 2,
   "id": "f8362f07",
   "metadata": {},
   "outputs": [],
   "source": [
    "import pandas as pd\n",
    "import numpy as np\n",
    "import matplotlib.pyplot as plt\n",
    "import os"
   ]
  },
  {
   "cell_type": "code",
   "execution_count": 3,
   "id": "d3be0ebb",
   "metadata": {},
   "outputs": [
    {
     "name": "stdout",
     "output_type": "stream",
     "text": [
      "✅ Dataset loaded with shape: (768, 9)\n",
      "Numeric columns available: ['Pregnancies', 'Glucose', 'BloodPressure', 'SkinThickness', 'Insulin', 'BMI', 'DiabetesPedigreeFunction', 'Age', 'Outcome']\n"
     ]
    }
   ],
   "source": [
    "data_path = input(\"Enter dataset CSV file path: \").strip()\n",
    "df = pd.read_csv(data_path)\n",
    "print(\"✅ Dataset loaded with shape:\", df.shape)\n",
    "\n",
    "# Keep only numeric columns\n",
    "df = df.select_dtypes(include=[np.number])\n",
    "numeric_cols = df.columns.tolist()\n",
    "print(\"Numeric columns available:\", numeric_cols)\n",
    "\n",
    "# Create folder for histogram images\n",
    "os.makedirs(\"histograms\", exist_ok=True)"
   ]
  },
  {
   "cell_type": "code",
   "execution_count": 4,
   "id": "e03806ed",
   "metadata": {},
   "outputs": [
    {
     "name": "stdout",
     "output_type": "stream",
     "text": [
      "\n",
      "✅ Histograms computed for numeric columns.\n"
     ]
    }
   ],
   "source": [
    "num_bins = 10\n",
    "histograms = {}\n",
    "for col in df.columns:\n",
    "    counts, bins = np.histogram(df[col], bins=num_bins)\n",
    "    histograms[col] = {\"counts\": counts, \"bins\": bins}\n",
    "\n",
    "print(\"\\n✅ Histograms computed for numeric columns.\")"
   ]
  },
  {
   "cell_type": "code",
   "execution_count": 5,
   "id": "4ee7a2d5",
   "metadata": {},
   "outputs": [
    {
     "name": "stdout",
     "output_type": "stream",
     "text": [
      "\n",
      "✅ Relation matrix computed and saved as relation_matrix.csv\n"
     ]
    }
   ],
   "source": [
    "cov_matrix = np.cov(df.values, rowvar=False)\n",
    "precision_matrix = np.linalg.pinv(cov_matrix)  # Pseudo-inverse for stability\n",
    "\n",
    "relation_matrix = pd.DataFrame(index=df.columns, columns=df.columns)\n",
    "for i, col1 in enumerate(df.columns):\n",
    "    for j, col2 in enumerate(df.columns):\n",
    "        if i == j:\n",
    "            relation_matrix.loc[col1, col2] = 0\n",
    "        else:\n",
    "            val = precision_matrix[i, j]\n",
    "            if val > 0:\n",
    "                relation_matrix.loc[col1, col2] = 1\n",
    "            elif val < 0:\n",
    "                relation_matrix.loc[col1, col2] = -1\n",
    "            else:\n",
    "                relation_matrix.loc[col1, col2] = 0\n",
    "\n",
    "relation_matrix = relation_matrix.astype(int)\n",
    "relation_matrix.to_csv(\"relation_matrix.csv\", index=True)\n",
    "\n",
    "print(\"\\n✅ Relation matrix computed and saved as relation_matrix.csv\")"
   ]
  },
  {
   "cell_type": "code",
   "execution_count": 8,
   "id": "6306338d",
   "metadata": {},
   "outputs": [
    {
     "name": "stdout",
     "output_type": "stream",
     "text": [
      "\n",
      "📊 Relation detection accuracy compared to correlation baseline: 0.00%\n"
     ]
    }
   ],
   "source": [
    "def evaluate_relation_accuracy(threshold=0.5):\n",
    "    # Correlation baseline\n",
    "    corr_matrix = df.corr().fillna(0)\n",
    "    corr_sign = corr_matrix.map(lambda x: 1 if x > threshold else (-1 if x < -threshold else 0))\n",
    "\n",
    "    # Compare with relation matrix\n",
    "    matches = (relation_matrix == corr_sign).sum().sum()\n",
    "    total = relation_matrix.size\n",
    "    accuracy = (matches / total) * 100\n",
    "    return accuracy\n",
    "\n",
    "acc = evaluate_relation_accuracy()\n",
    "print(f\"\\n📊 Relation detection accuracy compared to correlation baseline: {acc:.2f}%\")\n"
   ]
  },
  {
   "cell_type": "code",
   "execution_count": 10,
   "id": "61058ba3",
   "metadata": {},
   "outputs": [],
   "source": [
    "def compare_columns(col1, col2):\n",
    "    mean1, mean2 = df[col1].mean(), df[col2].mean()\n",
    "    if mean1 > mean2:\n",
    "        return f\"{col1} has higher average ({mean1:.2f}) than {col2} ({mean2:.2f})\"\n",
    "    elif mean1 < mean2:\n",
    "        return f\"{col2} has higher average ({mean2:.2f}) than {col1} ({mean1:.2f})\"\n",
    "    else:\n",
    "        return f\"{col1} and {col2} have equal averages ({mean1:.2f})\"\n",
    "\n",
    "def check_relation(col1, col2):\n",
    "    val = relation_matrix.loc[col1, col2]\n",
    "    if val == 1:\n",
    "        return f\"{col1} and {col2} have a positive conditional relation\"\n",
    "    elif val == -1:\n",
    "        return f\"{col1} and {col2} have a negative conditional relation\"\n",
    "    else:\n",
    "        return f\"No significant conditional relation between {col1} and {col2}\"\n",
    "\n",
    "def plot_histogram(col, bins=num_bins):\n",
    "    if col not in df.columns:\n",
    "        print(\"⚠️ Invalid column name.\")\n",
    "        return\n",
    "    data = df[col]\n",
    "    counts, bin_edges = np.histogram(data, bins=bins)\n",
    "\n",
    "    # Print bin ranges and counts\n",
    "    print(f\"\\nHistogram of {col}:\")\n",
    "    for i, count in enumerate(counts):\n",
    "        print(f\"Bin {i+1}: {bin_edges[i]:.3f} - {bin_edges[i+1]:.3f} : {count}\")\n",
    "\n",
    "    # Plot and save image\n",
    "    plt.figure(figsize=(6,4))\n",
    "    plt.hist(data, bins=bins, color='skyblue', edgecolor='black')\n",
    "    plt.title(f\"Histogram of {col}\")\n",
    "    plt.xlabel(col)\n",
    "    plt.ylabel(\"Frequency\")\n",
    "    plt.grid(axis='y', alpha=0.75)\n",
    "    plt.tight_layout()\n",
    "    filename = f\"histograms/hist_{col}.png\"\n",
    "    plt.savefig(filename)\n",
    "    plt.close()\n",
    "    print(f\"✅ Histogram image saved as {filename}\")\n",
    "\n",
    "def show_top_bottom(col, n=5, top=True):\n",
    "    n = int(n)\n",
    "    if top:\n",
    "        return df[col].nlargest(n).to_list()\n",
    "    else:\n",
    "        return df[col].nsmallest(n).to_list()\n",
    "\n",
    "def show_stats(col, stats_list=None):\n",
    "    desc = df[col].describe()\n",
    "    if stats_list:\n",
    "        stats_list = [s.lower() for s in stats_list]\n",
    "        filtered = {k:v for k,v in desc.items() if k.lower() in stats_list}\n",
    "        return filtered\n",
    "    else:\n",
    "        return desc.to_dict()"
   ]
  },
  {
   "cell_type": "code",
   "execution_count": 11,
   "id": "bdc44e58",
   "metadata": {},
   "outputs": [
    {
     "name": "stdout",
     "output_type": "stream",
     "text": [
      "\n",
      "🤖 Enhanced Histogram & Relation Chatbot\n",
      "Available numeric columns: ['Pregnancies', 'Glucose', 'BloodPressure', 'SkinThickness', 'Insulin', 'BMI', 'DiabetesPedigreeFunction', 'Age', 'Outcome']\n",
      "You can ask: 'compare X and Y', 'relation between X and Y', 'histogram of Z', 'stats of Z', 'top N of Z', 'bottom N of Z', 'columns', 'help'\n",
      "Type 'exit' to quit.\n",
      "\n",
      "Top 5 values of Age: [81, 72, 70, 69, 69]\n",
      "Top 2 values of BMI: [67.1, 59.4]\n",
      "👋 Exiting chatbot.\n"
     ]
    }
   ],
   "source": [
    "print(\"\\n🤖 Enhanced Histogram & Relation Chatbot\")\n",
    "print(\"Available numeric columns:\", numeric_cols)\n",
    "print(\"You can ask: 'compare X and Y', 'relation between X and Y', 'histogram of Z', 'stats of Z', 'top N of Z', 'bottom N of Z', 'columns', 'help'\")\n",
    "print(\"Type 'exit' to quit.\\n\")\n",
    "\n",
    "while True:\n",
    "    user_input = input(\"Ask your question: \").strip().lower()\n",
    "\n",
    "    if user_input in ['exit', 'quit', 'stop']:\n",
    "        print(\"👋 Exiting chatbot.\")\n",
    "        break\n",
    "\n",
    "    try:\n",
    "        # List columns\n",
    "        if user_input in [\"columns\", \"column names\"]:\n",
    "            print(\"Numeric columns:\", numeric_cols)\n",
    "\n",
    "        # Help\n",
    "        elif \"help\" in user_input:\n",
    "            print(\"Commands:\\n- compare X and Y\\n- relation between X and Y\\n- histogram of Z\\n- stats of Z\\n- top N of Z\\n- bottom N of Z\\n- columns\\n- exit/quit/stop\")\n",
    "\n",
    "        # Compare two columns\n",
    "        elif \"compare\" in user_input:\n",
    "            cols = [col for col in df.columns if col.lower() in user_input]\n",
    "            if len(cols) >= 2:\n",
    "                print(compare_columns(cols[0], cols[1]))\n",
    "            else:\n",
    "                print(\"⚠️ Please specify two numeric columns to compare.\")\n",
    "\n",
    "        # Conditional relation\n",
    "        elif \"relation\" in user_input:\n",
    "            cols = [col for col in df.columns if col.lower() in user_input]\n",
    "            if len(cols) >= 2:\n",
    "                print(check_relation(cols[0], cols[1]))\n",
    "            else:\n",
    "                print(\"⚠️ Please specify two numeric columns to check relation.\")\n",
    "\n",
    "        # Histogram\n",
    "        elif \"histogram\" in user_input or \"bin\" in user_input:\n",
    "            cols = [col for col in df.columns if col.lower() in user_input]\n",
    "            if cols:\n",
    "                plot_histogram(cols[0])\n",
    "            else:\n",
    "                print(\"⚠️ Please specify a numeric column for histogram.\")\n",
    "\n",
    "        # Top N values\n",
    "        elif user_input.startswith(\"top\"):\n",
    "            n = 5  # default\n",
    "            for col in numeric_cols:\n",
    "                if col.lower() in user_input:\n",
    "                    if any(word.isdigit() for word in user_input.split()):\n",
    "                        n = int([word for word in user_input.split() if word.isdigit()][0])\n",
    "                    print(f\"Top {n} values of {col}: {show_top_bottom(col, n=n, top=True)}\")\n",
    "                    break\n",
    "            else:\n",
    "                print(\"⚠️ Please specify a valid numeric column for top N values.\")\n",
    "\n",
    "        # Bottom N values\n",
    "        elif user_input.startswith(\"bottom\"):\n",
    "            n = 5  # default\n",
    "            for col in numeric_cols:\n",
    "                if col.lower() in user_input:\n",
    "                    if any(word.isdigit() for word in user_input.split()):\n",
    "                        n = int([word for word in user_input.split() if word.isdigit()][0])\n",
    "                    print(f\"Bottom {n} values of {col}: {show_top_bottom(col, n=n, top=False)}\")\n",
    "                    break\n",
    "            else:\n",
    "                print(\"⚠️ Please specify a valid numeric column for bottom N values.\")\n",
    "\n",
    "        # Stats command\n",
    "        elif user_input.startswith(\"stats\"):\n",
    "            stats_list = None\n",
    "            for col in numeric_cols:\n",
    "                if col.lower() in user_input:\n",
    "                    stats_part = user_input[user_input.find(\"stats\")+5:].replace(\"of\",\"\").replace(col.lower(),\"\").replace(\",\",\" \").split()\n",
    "                    stats_list = stats_part if stats_part else None\n",
    "                    stats_dict = show_stats(col, stats_list)\n",
    "                    for k, v in stats_dict.items():\n",
    "                        print(f\"{k}: {v:.2f}\")\n",
    "                    break\n",
    "            else:\n",
    "                print(\"⚠️ Please specify a valid numeric column for stats.\")\n",
    "\n",
    "\n",
    "        # Unknown\n",
    "        else:\n",
    "            print(\"🤷 Sorry, I can answer questions about histograms, comparisons, stats, top/bottom values, and conditional relations.\")\n",
    "\n",
    "    except Exception as e:\n",
    "        print(\"⚠️ Error:\", e)"
   ]
  }
 ],
 "metadata": {
  "kernelspec": {
   "display_name": "Python 3",
   "language": "python",
   "name": "python3"
  },
  "language_info": {
   "codemirror_mode": {
    "name": "ipython",
    "version": 3
   },
   "file_extension": ".py",
   "mimetype": "text/x-python",
   "name": "python",
   "nbconvert_exporter": "python",
   "pygments_lexer": "ipython3",
   "version": "3.12.6"
  }
 },
 "nbformat": 4,
 "nbformat_minor": 5
}
