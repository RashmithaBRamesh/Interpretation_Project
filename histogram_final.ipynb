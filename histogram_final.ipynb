{
 "cells": [
  {
   "cell_type": "code",
   "execution_count": 2,
   "id": "f8362f07",
   "metadata": {},
   "outputs": [],
   "source": [
    "import pandas as pd\n",
    "import numpy as np\n",
    "import matplotlib.pyplot as plt\n",
    "import os"
   ]
  },
  {
   "cell_type": "code",
   "execution_count": null,
   "id": "d3be0ebb",
   "metadata": {},
   "outputs": [
    {
     "name": "stdout",
     "output_type": "stream",
     "text": [
      "✅ Dataset loaded with shape: (768, 9)\n",
      "Numeric columns available: ['Pregnancies', 'Glucose', 'BloodPressure', 'SkinThickness', 'Insulin', 'BMI', 'DiabetesPedigreeFunction', 'Age', 'Outcome']\n"
     ]
    }
   ],
   "source": [
    "data_path = input(\"Enter dataset CSV file path: \").strip()\n",
    "df = pd.read_csv(data_path)\n",
    "print(\" Dataset loaded with shape:\", df.shape)\n",
    "\n",
    "# Keep only numeric columns\n",
    "df = df.select_dtypes(include=[np.number])\n",
    "numeric_cols = df.columns.tolist()\n",
    "print(\"Numeric columns available:\", numeric_cols)\n",
    "\n",
    "# Create folder for histogram images\n",
    "os.makedirs(\"histograms\", exist_ok=True)"
   ]
  },
  {
   "cell_type": "code",
   "execution_count": null,
   "id": "e03806ed",
   "metadata": {},
   "outputs": [
    {
     "name": "stdout",
     "output_type": "stream",
     "text": [
      "\n",
      "✅ Histograms computed for numeric columns.\n"
     ]
    }
   ],
   "source": [
    "num_bins = 10\n",
    "histograms = {}\n",
    "for col in df.columns:\n",
    "    counts, bins = np.histogram(df[col], bins=num_bins)\n",
    "    histograms[col] = {\"counts\": counts, \"bins\": bins}\n",
    "\n",
    "print(\"\\n Histograms computed for numeric columns.\")"
   ]
  },
  {
   "cell_type": "code",
   "execution_count": null,
   "id": "4ee7a2d5",
   "metadata": {},
   "outputs": [
    {
     "name": "stdout",
     "output_type": "stream",
     "text": [
      "\n",
      "✅ Relation matrix computed and saved as relation_matrix.csv\n"
     ]
    }
   ],
   "source": [
    "cov_matrix = np.cov(df.values, rowvar=False)\n",
    "precision_matrix = np.linalg.pinv(cov_matrix)  # Pseudo-inverse for stability\n",
    "\n",
    "relation_matrix = pd.DataFrame(index=df.columns, columns=df.columns)\n",
    "for i, col1 in enumerate(df.columns):\n",
    "    for j, col2 in enumerate(df.columns):\n",
    "        if i == j:\n",
    "            relation_matrix.loc[col1, col2] = 0\n",
    "        else:\n",
    "            val = precision_matrix[i, j]\n",
    "            if val > 0:\n",
    "                relation_matrix.loc[col1, col2] = 1\n",
    "            elif val < 0:\n",
    "                relation_matrix.loc[col1, col2] = -1\n",
    "            else:\n",
    "                relation_matrix.loc[col1, col2] = 0\n",
    "\n",
    "relation_matrix = relation_matrix.astype(int)\n",
    "relation_matrix.to_csv(\"relation_matrix.csv\", index=True)\n",
    "\n",
    "print(\"\\n Relation matrix computed and saved as relation_matrix.csv\")"
   ]
  }
 ],
 "metadata": {
  "kernelspec": {
   "display_name": "Python 3",
   "language": "python",
   "name": "python3"
  },
  "language_info": {
   "codemirror_mode": {
    "name": "ipython",
    "version": 3
   },
   "file_extension": ".py",
   "mimetype": "text/x-python",
   "name": "python",
   "nbconvert_exporter": "python",
   "pygments_lexer": "ipython3",
   "version": "3.12.6"
  }
 },
 "nbformat": 4,
 "nbformat_minor": 5
}
